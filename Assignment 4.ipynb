{
 "cells": [
  {
   "cell_type": "code",
   "execution_count": 1,
   "id": "5039fa26-80f9-4f77-bbef-e56407193631",
   "metadata": {},
   "outputs": [],
   "source": [
    "class Node:\n",
    "    def __init__(self, value):\n",
    "        self.data = value\n",
    "        self.next = None\n",
    "\n",
    "class Stack:\n",
    "    def __init__(self):\n",
    "        self._top = None\n",
    "        self._size = 0\n",
    "\n",
    "    def push(self, value):\n",
    "        \"\"\"Push a new node with the given value onto the top of the stack.\"\"\"\n",
    "        new_node = Node(value)\n",
    "        new_node.next = self._top  # Point the new node to the current top\n",
    "        self._top = new_node       # Update the top to the new node\n",
    "        self._size += 1            # Increment the stack size\n",
    "\n",
    "    def pop(self):\n",
    "        \"\"\"Remove and return the value from the top node of the stack.\"\"\"\n",
    "        if self._top is None:      # Check if the stack is empty\n",
    "            return None\n",
    "        removed_node = self._top   # Keep reference to the top node\n",
    "        self._top = self._top.next  # Update top to the next node\n",
    "        self._size -= 1            # Decrement the stack size\n",
    "        return removed_node.data   # Return the removed node's value\n",
    "\n",
    "    def __repr__(self):\n",
    "        elements = [node.data for node in self]  # Use data attribute for each node\n",
    "        return f'<Stack ({self._size} elements): {elements}>'\n",
    "\n",
    "    def __iter__(self):\n",
    "        \"\"\"Iterate through the stack elements for representation.\"\"\"\n",
    "        current = self._top\n",
    "        while current:\n",
    "            yield current\n",
    "            current = current.next\n"
   ]
  },
  {
   "cell_type": "code",
   "execution_count": null,
   "id": "7bf7b77e-0075-41aa-9db8-fb376e231d25",
   "metadata": {},
   "outputs": [],
   "source": []
  },
  {
   "cell_type": "code",
   "execution_count": null,
   "id": "b363f42e-a1bc-4f07-99da-b2533ce5e666",
   "metadata": {},
   "outputs": [],
   "source": []
  }
 ],
 "metadata": {
  "kernelspec": {
   "display_name": "Python 3 (ipykernel)",
   "language": "python",
   "name": "python3"
  },
  "language_info": {
   "codemirror_mode": {
    "name": "ipython",
    "version": 3
   },
   "file_extension": ".py",
   "mimetype": "text/x-python",
   "name": "python",
   "nbconvert_exporter": "python",
   "pygments_lexer": "ipython3",
   "version": "3.12.7"
  }
 },
 "nbformat": 4,
 "nbformat_minor": 5
}
